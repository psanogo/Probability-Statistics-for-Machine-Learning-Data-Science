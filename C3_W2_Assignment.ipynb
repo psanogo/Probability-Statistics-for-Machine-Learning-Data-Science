{
 "cells": [
  {
   "cell_type": "markdown",
   "id": "4caafec3",
   "metadata": {},
   "source": [
    "# Loaded dice \n",
    "\n",
    "Welcome to the second assignment in the course Probability and Statistics for Machine Learning and Data Science! In this quiz-like assignment you will test your intuition about the concepts covered in the lectures by taking the example with the dice to the next level. \n",
    "\n",
    "**This assignment can be completed with just pencil and paper, or even your intuition about probability, but in many questions using the skills you're developing as a programmer may help**. "
   ]
  },
  {
   "cell_type": "markdown",
   "id": "3bff9c20",
   "metadata": {},
   "source": [
    "## 1 - Introduction\n",
    "\n",
    "You will be presented with 11 questions regarding a several dice games. Sometimes the dice is loaded, sometimes it is not. You will have clear instructions for each exercise.\n",
    "\n",
    "### 1.1 How to go through the assignment\n",
    "\n",
    "In each exercise you there will be a question about throwing some dice that may or may not be loaded. You will have to answer questions about the results of each scenario, such as calculating the expected value of the dice throw or selecting the graph that best represents the distribution of outcomes. \n",
    "\n",
    "In any case, **you will be able to solve the exercise with one of the following methods:**\n",
    "\n",
    "- **By hand:** You may make your calculations by hand, using the theory you have developed in the lectures.\n",
    "- **Using Python:** You may use the empty block of code provided to make computations and simulations, to obtain the result.\n",
    "\n",
    "After each exercise you will save your solution by running a special code cell and adding your answer. The cells contain a single line of code in the format `utils.exercise_1()` which will launch the interface in which you can save your answer. **You will save your responses to each exercise as you go, but you won't submit all your responses for grading until you submit this assignment at the end.**\n",
    "\n",
    "Let's go over an example! Before, let's import the necessary libraries."
   ]
  },
  {
   "cell_type": "markdown",
   "id": "3d256624",
   "metadata": {},
   "source": [
    "## 2 - Importing the libraries"
   ]
  },
  {
   "cell_type": "code",
   "execution_count": 28,
   "id": "da0fcf2f",
   "metadata": {},
   "outputs": [],
   "source": [
    "import numpy as np\n",
    "import pandas as pd\n",
    "import seaborn as sns\n",
    "import matplotlib.pyplot as plt\n",
    "import utils"
   ]
  },
  {
   "cell_type": "markdown",
   "id": "e1637bc9",
   "metadata": {},
   "source": [
    "## 3 - A worked example on how to complete this assignment.\n",
    "\n",
    "Now let's go over one example question, so you understand how to go through the assignment.\n",
    "\n",
    "### 3.1 Example question\n",
    "\n",
    "Question: Given a 6-sided fair dice, you throw it two times and save the result. What is the probability that the sum of your two throws is greater than 5? (Give your result with 1 decimal place).\n",
    "\n",
    "After the question, you will see the following block of code."
   ]
  },
  {
   "cell_type": "code",
   "execution_count": 29,
   "id": "c789233e",
   "metadata": {},
   "outputs": [],
   "source": [
    "# You can use this cell for your calculations (not graded)\n"
   ]
  },
  {
   "cell_type": "markdown",
   "id": "02528065",
   "metadata": {},
   "source": [
    "You may use it as you wish to solve the exercise. Or you can just ignore it and use pencil and pen to solve. It is up to you! **You will only save your final answer**. \n",
    "\n",
    "### 3.2 Solving using simulations in Python\n",
    "\n",
    "Let's solve this question in both ways. First, using Python. You may check the ungraded lab Dice Simulations that appears right before this assignment to help you simulate dice throws. Remember that, to get a good approximation, you need to simulate it a lot of times! You will see why this is true in the following weeks, but this is quite intuitive."
   ]
  },
  {
   "cell_type": "code",
   "execution_count": 30,
   "id": "309a3457",
   "metadata": {},
   "outputs": [
    {
     "name": "stdout",
     "output_type": "stream",
     "text": [
      "Mean: 3.500\n",
      "Variance: 2.917\n"
     ]
    }
   ],
   "source": [
    "\n",
    "# You can use this cell for your calculations (not graded)\n",
    "\n",
    "# The possible outcomes of a fair 6-sided die\n",
    "dice_outcomes = np.array([1, 2, 3, 4, 5, 6])\n",
    "\n",
    "# np.mean() calculates the true mean of the distribution\n",
    "mean_value = np.mean(dice_outcomes)\n",
    "\n",
    "# np.var() calculates the true variance of the distribution\n",
    "variance_value = np.var(dice_outcomes)\n",
    "\n",
    "print(f\"Mean: {mean_value:.3f}\")\n",
    "print(f\"Variance: {variance_value:.3f}\")\n"
   ]
  },
  {
   "cell_type": "markdown",
   "id": "37524317",
   "metadata": {},
   "source": [
    "So the result you would get, rounding in to decimal place, would be 0.7! Let's solve it \"by hand\".\n",
    "\n",
    "### 3.3 Solving using the theory\n",
    "\n",
    "When throwing two dice, there are $36$ possible outcomes:\n",
    "\n",
    "$$(1,1), (1,2), \\ldots, (6,6)$$\n",
    "\n",
    "You must count how many of them lead to a sum greater than 5. They are:\n",
    "\n",
    "* If the first throw is $1$, there are $2$ possibilities for the second throw: 5 or 6.\n",
    "* If the first throw is $2$, there are $3$ possibilities for the second throw: 4, 5 or 6.\n",
    "* If the first throw is $3$, there are $4$ possibilities for the second throw: 3, 4, 5 or 6.\n",
    "* If the first throw is $4$, there are $5$ possibilities for the second throw: 2, 3, 4, 5 or 6.\n",
    "* If the first throw is $5$, there are $6$ possibilities for the second throw: 1, 2, 3, 4, 5 or 6.\n",
    "* If the first throw is $6$, there are $6$ possibilities for the second throw: 1, 2, 3, 4, 5 or 6.\n",
    "\n",
    "So, in total there are $2 + 3 + 4 + 5 + 6 + 6 = 26$, possibilities that sum greater than 5.\n",
    "\n",
    "The probability is then $\\frac{26}{36} \\approx 0.72$. Rounding it to 1 decimal place, the result is also 0.7!\n"
   ]
  },
  {
   "cell_type": "markdown",
   "id": "29b9f3ed",
   "metadata": {},
   "source": [
    "### 3.4 Saving your answer\n",
    "\n",
    "Once you get your answer in hands, it is time to save it. Run the next code below to see what it will look like. You just add your answer as requested and click on \"Save your answer!\""
   ]
  },
  {
   "cell_type": "code",
   "execution_count": 31,
   "id": "38539358",
   "metadata": {},
   "outputs": [
    {
     "data": {
      "application/vnd.jupyter.widget-view+json": {
       "model_id": "b37ff63830d4482c99d12f127ac4ff71",
       "version_major": 2,
       "version_minor": 0
      },
      "text/plain": [
       "FloatText(value=0.0, description='Probability:')"
      ]
     },
     "metadata": {},
     "output_type": "display_data"
    },
    {
     "data": {
      "application/vnd.jupyter.widget-view+json": {
       "model_id": "397795d5afc846379bb8514d7c2ac1f7",
       "version_major": 2,
       "version_minor": 0
      },
      "text/plain": [
       "Button(button_style='success', description='Save your answer!', style=ButtonStyle())"
      ]
     },
     "metadata": {},
     "output_type": "display_data"
    },
    {
     "data": {
      "application/vnd.jupyter.widget-view+json": {
       "model_id": "c42bddd3f5de41edb1886f42e97b56a6",
       "version_major": 2,
       "version_minor": 0
      },
      "text/plain": [
       "Output()"
      ]
     },
     "metadata": {},
     "output_type": "display_data"
    }
   ],
   "source": [
    "utils.exercise_example()"
   ]
  },
  {
   "cell_type": "markdown",
   "id": "73d4776c",
   "metadata": {},
   "source": [
    "And that's it! Once you save one question, you can go to the next one. If you want to change your solution, just run the code again and input the new solution, it will overwrite the previous one. At the end of the assignment, you will be able to check if you have forgotten to save any question. \n",
    "\n",
    "Once you finish the assignment, you may submit it as you usually would. Your most recently save answers to each exercise will then be graded."
   ]
  },
  {
   "cell_type": "markdown",
   "id": "4546a127",
   "metadata": {},
   "source": [
    "## 4 - Some concept clarifications 🎲🎲🎲\n",
    "\n",
    "During this assignment you will be presented with various scenarios that involve dice. Usually dice can have different numbers of sides and can be either fair or loaded.\n",
    "\n",
    "- A fair dice has equal probability of landing on every side.\n",
    "- A loaded dice does not have equal probability of landing on every side. Usually one (or more) sides have a greater probability of showing up than the rest.\n",
    "\n",
    "Alright, that's all your need to know to complete this assignment. Time to start rolling some dice!"
   ]
  },
  {
   "cell_type": "markdown",
   "id": "c8f09f02",
   "metadata": {},
   "source": [
    "## Exercise 1:\n",
    "\n"
   ]
  },
  {
   "cell_type": "markdown",
   "id": "3510c610",
   "metadata": {},
   "source": [
    "Given a 6-sided fair dice (all of the sides have equal probability of showing up), compute the mean and variance for the probability distribution that models said dice. The next figure shows you a visual represenatation of said distribution:\n",
    "\n",
    "<img src=\"./images/fair_dice.png\" style=\"height: 300px;\"/>\n",
    "\n",
    "**Submission considerations:**\n",
    "- Submit your answers as floating point numbers with three digits after the decimal point\n",
    "- Example: To submit the value of 1/4 enter 0.250"
   ]
  },
  {
   "cell_type": "markdown",
   "id": "5ee9b479",
   "metadata": {},
   "source": [
    "Hints: \n",
    "- You can use [np.random.choice](https://numpy.org/doc/stable/reference/random/generated/numpy.random.choice.html) to simulate a fair dice.\n",
    "- You can use [np.mean](https://numpy.org/doc/stable/reference/generated/numpy.mean.html) and [np.var](https://numpy.org/doc/stable/reference/generated/numpy.var.html) to compute the mean and variance of a numpy array."
   ]
  },
  {
   "cell_type": "code",
   "execution_count": 32,
   "id": "df437e8e",
   "metadata": {},
   "outputs": [
    {
     "name": "stdout",
     "output_type": "stream",
     "text": [
      "Mean: 3.500\n",
      "Variance: 2.917\n"
     ]
    }
   ],
   "source": [
    "# You can use this cell for your calculations (not graded)\n",
    "import numpy as np\n",
    "\n",
    "# The possible outcomes of a fair 6-sided die\n",
    "outcomes = np.array([1, 2, 3, 4, 5, 6])\n",
    "\n",
    "# Calculate the mean and variance\n",
    "mean_value = np.mean(outcomes)\n",
    "variance_value = np.var(outcomes)\n",
    "\n",
    "print(f\"Mean: {mean_value:.3f}\")\n",
    "print(f\"Variance: {variance_value:.3f}\")\n"
   ]
  },
  {
   "cell_type": "code",
   "execution_count": 33,
   "id": "db9477e7",
   "metadata": {},
   "outputs": [
    {
     "data": {
      "application/vnd.jupyter.widget-view+json": {
       "model_id": "1296be467d1140149fa039a809f13c10",
       "version_major": 2,
       "version_minor": 0
      },
      "text/plain": [
       "FloatText(value=0.0, description='Mean:')"
      ]
     },
     "metadata": {},
     "output_type": "display_data"
    },
    {
     "data": {
      "application/vnd.jupyter.widget-view+json": {
       "model_id": "0ced9ff8bd2d4860a4264ed6fbdbc816",
       "version_major": 2,
       "version_minor": 0
      },
      "text/plain": [
       "FloatText(value=0.0, description='Variance:')"
      ]
     },
     "metadata": {},
     "output_type": "display_data"
    },
    {
     "data": {
      "application/vnd.jupyter.widget-view+json": {
       "model_id": "47f0e79059b64497a50bd1c0b3ddaea0",
       "version_major": 2,
       "version_minor": 0
      },
      "text/plain": [
       "Button(button_style='success', description='Save your answer!', style=ButtonStyle())"
      ]
     },
     "metadata": {},
     "output_type": "display_data"
    },
    {
     "data": {
      "application/vnd.jupyter.widget-view+json": {
       "model_id": "85854723036f4c92a61bfbf8945373a1",
       "version_major": 2,
       "version_minor": 0
      },
      "text/plain": [
       "Output()"
      ]
     },
     "metadata": {},
     "output_type": "display_data"
    }
   ],
   "source": [
    "# Run this cell to submit your answer\n",
    "utils.exercise_1()"
   ]
  },
  {
   "cell_type": "markdown",
   "id": "d43dcbbd",
   "metadata": {},
   "source": [
    "## Exercise 2:\n",
    "\n",
    "Now suppose you are throwing the dice (same dice as in the previous exercise) two times and recording the sum of each throw. Which of the following `probability mass functions` will be the one you should get?\n",
    "\n",
    "<table><tr>\n",
    "<td> <img src=\"./images/hist_sum_6_side.png\" style=\"height: 300px;\"/> </td>\n",
    "<td> <img src=\"./images/hist_sum_5_side.png\" style=\"height: 300px;\"/> </td>\n",
    "<td> <img src=\"./images/hist_sum_6_uf.png\" style=\"height: 300px;\"/> </td>\n",
    "</tr></table>\n"
   ]
  },
  {
   "cell_type": "markdown",
   "id": "605c58c0",
   "metadata": {},
   "source": [
    "Hints: \n",
    "- You can use numpy arrays to hold the results of many throws.\n",
    "- You can sum to numpy arrays by using the `+` operator like this: `sum = first_throw + second_throw`\n",
    "- To simulate multiple throws of a dice you can use list comprehension or a for loop"
   ]
  },
  {
   "cell_type": "code",
   "execution_count": 34,
   "id": "e9a8b2ed",
   "metadata": {},
   "outputs": [
    {
     "data": {
      "image/png": "[encoded data removed]",
      "text/plain": [
       "<Figure size 1000x600 with 1 Axes>"
      ]
     },
     "metadata": {},
     "output_type": "display_data"
    }
   ],
   "source": [
    "# You can use this cell for your calculations (not graded)\n",
    "\n",
    "import numpy as np\n",
    "import matplotlib.pyplot as plt\n",
    "import seaborn as sns\n",
    "\n",
    "# Number of simulations\n",
    "num_simulations = 100000\n",
    "\n",
    "# Possible outcomes for a single fair 6-sided die\n",
    "dice_outcomes = np.array([1, 2, 3, 4, 5, 6])\n",
    "\n",
    "# Simulate two independent throws\n",
    "first_throw = np.random.choice(dice_outcomes, size=num_simulations)\n",
    "second_throw = np.random.choice(dice_outcomes, size=num_simulations)\n",
    "\n",
    "# Calculate the sum of the throws\n",
    "sum_of_throws = first_throw + second_throw\n",
    "\n",
    "# Plot the resulting probability mass function (PMF)\n",
    "plt.figure(figsize=(10, 6))\n",
    "sns.histplot(data=sum_of_throws, discrete=True, stat='probability', shrink=0.8)\n",
    "plt.title('Simulated PMF of the Sum of Two Fair 6-Sided Dice Throws')\n",
    "plt.xlabel('Sum of Throws')\n",
    "plt.ylabel('Probability')\n",
    "plt.xticks(range(2, 13))\n",
    "plt.grid(axis='y', linestyle='--', alpha=0.7)\n",
    "plt.show()\n"
   ]
  },
  {
   "cell_type": "code",
   "execution_count": 35,
   "id": "d4d5dcf9",
   "metadata": {},
   "outputs": [
    {
     "data": {
      "application/vnd.jupyter.widget-view+json": {
       "model_id": "94eb157f6d3248c396d3bef81c2a0ad7",
       "version_major": 2,
       "version_minor": 0
      },
      "text/plain": [
       "ToggleButtons(description='Your answer:', options=('left', 'center', 'right'), value='left')"
      ]
     },
     "metadata": {},
     "output_type": "display_data"
    },
    {
     "data": {
      "application/vnd.jupyter.widget-view+json": {
       "model_id": "83097aa96b124c1982be6535d4b5e075",
       "version_major": 2,
       "version_minor": 0
      },
      "text/plain": [
       "Button(button_style='success', description='Save your answer!', style=ButtonStyle())"
      ]
     },
     "metadata": {},
     "output_type": "display_data"
    },
    {
     "data": {
      "application/vnd.jupyter.widget-view+json": {
       "model_id": "816c0f26185c4b7d80fab9057b0f41fe",
       "version_major": 2,
       "version_minor": 0
      },
      "text/plain": [
       "Output()"
      ]
     },
     "metadata": {},
     "output_type": "display_data"
    }
   ],
   "source": [
    "# Run this cell to submit your answer\n",
    "utils.exercise_2()"
   ]
  },
  {
   "cell_type": "markdown",
   "id": "adfb889c",
   "metadata": {},
   "source": [
    "## Exercise 3:\n",
    "\n",
    "Given a fair 4-sided dice, you throw it two times and record the sum. The figure on the left shows the probabilities of the dice landing on each side and the right figure the histogram of the sum. Fill out the probabilities of each sum (notice that the distribution of the sum is symetrical so you only need to input 4 values in total):\n",
    "\n",
    "<img src=\"./images/4_side_hists.png\" style=\"height: 300px;\"/>\n",
    "\n",
    "**Submission considerations:**\n",
    "- Submit your answers as floating point numbers with three digits after the decimal point\n",
    "- Example: To submit the value of 1/4 enter 0.250"
   ]
  },
  {
   "cell_type": "code",
   "execution_count": 36,
   "id": "342ca685",
   "metadata": {},
   "outputs": [
    {
     "name": "stdout",
     "output_type": "stream",
     "text": [
      "P(sum=2): 0.062\n",
      "P(sum=3): 0.125\n",
      "P(sum=4): 0.188\n",
      "P(sum=5): 0.250\n"
     ]
    }
   ],
   "source": [
    "# You can use this cell for your calculations (not graded)\n",
    "\n",
    "# Total possible outcomes for two throws of a 4-sided die is 4 * 4 = 16.\n",
    "# Each outcome (throw1, throw2) has a probability of 1/16.\n",
    "\n",
    "# We count the number of ways to get each sum:\n",
    "# Sum = 2: (1,1) -> 1 way\n",
    "# Sum = 3: (1,2), (2,1) -> 2 ways\n",
    "# Sum = 4: (1,3), (2,2), (3,1) -> 3 ways\n",
    "# Sum = 5: (1,4), (2,3), (3,2), (4,1) -> 4 ways\n",
    "\n",
    "# Calculate the probabilities\n",
    "p_sum_2 = 1 / 16\n",
    "p_sum_3 = 2 / 16\n",
    "p_sum_4 = 3 / 16\n",
    "p_sum_5 = 4 / 16\n",
    "\n",
    "print(f\"P(sum=2): {p_sum_2:.3f}\")\n",
    "print(f\"P(sum=3): {p_sum_3:.3f}\")\n",
    "print(f\"P(sum=4): {p_sum_4:.3f}\")\n",
    "print(f\"P(sum=5): {p_sum_5:.3f}\")\n"
   ]
  },
  {
   "cell_type": "code",
   "execution_count": 37,
   "id": "e0a24beb",
   "metadata": {},
   "outputs": [
    {
     "data": {
      "application/vnd.jupyter.widget-view+json": {
       "model_id": "02f9e727515e4f8da38c032568fe868f",
       "version_major": 2,
       "version_minor": 0
      },
      "text/plain": [
       "FloatText(value=0.0, description='P for sum=2', style=DescriptionStyle(description_width='initial'))"
      ]
     },
     "metadata": {},
     "output_type": "display_data"
    },
    {
     "data": {
      "application/vnd.jupyter.widget-view+json": {
       "model_id": "2c06058553dc4427993573fc672b6aad",
       "version_major": 2,
       "version_minor": 0
      },
      "text/plain": [
       "FloatText(value=0.0, description='P for sum=3:', style=DescriptionStyle(description_width='initial'))"
      ]
     },
     "metadata": {},
     "output_type": "display_data"
    },
    {
     "data": {
      "application/vnd.jupyter.widget-view+json": {
       "model_id": "2e85acd123694fa5ba72abc41f14860d",
       "version_major": 2,
       "version_minor": 0
      },
      "text/plain": [
       "FloatText(value=0.0, description='P for sum=4:', style=DescriptionStyle(description_width='initial'))"
      ]
     },
     "metadata": {},
     "output_type": "display_data"
    },
    {
     "data": {
      "application/vnd.jupyter.widget-view+json": {
       "model_id": "51647a81817d495eba054c0eac690d2a",
       "version_major": 2,
       "version_minor": 0
      },
      "text/plain": [
       "FloatText(value=0.0, description='P for sum=5:', style=DescriptionStyle(description_width='initial'))"
      ]
     },
     "metadata": {},
     "output_type": "display_data"
    },
    {
     "data": {
      "application/vnd.jupyter.widget-view+json": {
       "model_id": "d41e7130cbb340ac8ea14a554be59966",
       "version_major": 2,
       "version_minor": 0
      },
      "text/plain": [
       "Button(button_style='success', description='Save your answer!', style=ButtonStyle())"
      ]
     },
     "metadata": {},
     "output_type": "display_data"
    },
    {
     "data": {
      "application/vnd.jupyter.widget-view+json": {
       "model_id": "7bed631d55574c5d89d1fcdd7e31c83c",
       "version_major": 2,
       "version_minor": 0
      },
      "text/plain": [
       "Output()"
      ]
     },
     "metadata": {},
     "output_type": "display_data"
    }
   ],
   "source": [
    "# Run this cell to submit your answer\n",
    "utils.exercise_3()"
   ]
  },
  {
   "cell_type": "markdown",
   "id": "108837bd",
   "metadata": {},
   "source": [
    "## Exercise 4:\n",
    "\n",
    "Using the same scenario as in the previous exercise. Compute the mean and variance of the sum of the two throws  and the covariance between the first and the second throw:\n",
    "\n",
    "<img src=\"./images/4_sided_hist_no_prob.png\" style=\"height: 300px;\"/>\n",
    "\n",
    "\n",
    "Hints:\n",
    "- You can use [np.cov](https://numpy.org/doc/stable/reference/generated/numpy.cov.html) to compute the covariance of two numpy arrays (this may not be needed for this particular exercise)."
   ]
  },
  {
   "cell_type": "code",
   "execution_count": 38,
   "id": "f4eadc3c",
   "metadata": {},
   "outputs": [
    {
     "name": "stdout",
     "output_type": "stream",
     "text": [
      "Mean of the sum: 5.000\n",
      "Variance of the sum: 2.500\n",
      "Covariance: 0.000\n"
     ]
    }
   ],
   "source": [
    "# You can use this cell for your calculations (not graded)\n",
    "\n",
    "# Let X be the random variable for a single throw of a fair 4-sided die.\n",
    "# Outcomes are {1, 2, 3, 4}, each with probability 1/4.\n",
    "\n",
    "# Mean of a single throw: E[X] = (1 + 2 + 3 + 4) / 4 = 2.5\n",
    "mean_single_throw = 2.5\n",
    "\n",
    "# Variance of a single throw: Var(X) = E[X^2] - (E[X])^2 = 1.25\n",
    "var_single_throw = 1.25\n",
    "\n",
    "# Let S be the sum of two throws, S = X1 + X2.\n",
    "# X1 and X2 are independent and identically distributed.\n",
    "\n",
    "# Mean of the sum: E[S] = E[X1] + E[X2]\n",
    "mean_sum = mean_single_throw + mean_single_throw\n",
    "\n",
    "# Variance of the sum: Var(S) = Var(X1) + Var(X2) (due to independence)\n",
    "var_sum = var_single_throw + var_single_throw\n",
    "\n",
    "# Covariance of the two throws is 0 due to independence.\n",
    "covariance = 0.0\n",
    "\n",
    "print(f\"Mean of the sum: {mean_sum:.3f}\")\n",
    "print(f\"Variance of the sum: {var_sum:.3f}\")\n",
    "print(f\"Covariance: {covariance:.3f}\")\n"
   ]
  },
  {
   "cell_type": "code",
   "execution_count": 39,
   "id": "4e662b9b",
   "metadata": {},
   "outputs": [
    {
     "data": {
      "application/vnd.jupyter.widget-view+json": {
       "model_id": "759556403c35462fbecfc3cb34bcd053",
       "version_major": 2,
       "version_minor": 0
      },
      "text/plain": [
       "FloatText(value=0.0, description='Mean:')"
      ]
     },
     "metadata": {},
     "output_type": "display_data"
    },
    {
     "data": {
      "application/vnd.jupyter.widget-view+json": {
       "model_id": "71a6473a8b9d4781ab9988ba242f2c9c",
       "version_major": 2,
       "version_minor": 0
      },
      "text/plain": [
       "FloatText(value=0.0, description='Variance:')"
      ]
     },
     "metadata": {},
     "output_type": "display_data"
    },
    {
     "data": {
      "application/vnd.jupyter.widget-view+json": {
       "model_id": "95b039df497e46a48676f611c737e451",
       "version_major": 2,
       "version_minor": 0
      },
      "text/plain": [
       "FloatText(value=0.0, description='Covariance:')"
      ]
     },
     "metadata": {},
     "output_type": "display_data"
    },
    {
     "data": {
      "application/vnd.jupyter.widget-view+json": {
       "model_id": "9a75aa74763549cf95cecb63c3b11e68",
       "version_major": 2,
       "version_minor": 0
      },
      "text/plain": [
       "Button(button_style='success', description='Save your answer!', style=ButtonStyle())"
      ]
     },
     "metadata": {},
     "output_type": "display_data"
    },
    {
     "data": {
      "application/vnd.jupyter.widget-view+json": {
       "model_id": "1c81f58aad8347f08e72a4b23784277e",
       "version_major": 2,
       "version_minor": 0
      },
      "text/plain": [
       "Output()"
      ]
     },
     "metadata": {},
     "output_type": "display_data"
    }
   ],
   "source": [
    "# Run this cell to submit your answer\n",
    "utils.exercise_4()\n"
   ]
  },
  {
   "cell_type": "markdown",
   "id": "714e099b",
   "metadata": {},
   "source": [
    "## Exercise 5:\n",
    "\n",
    "\n",
    "Now suppose you are have a loaded 4-sided dice (it is loaded so that it lands twice as often on side 2 compared to the other sides): \n",
    "\n",
    "\n",
    "<img src=\"./images/4_side_uf.png\" style=\"height: 300px;\"/>\n",
    "\n",
    "You are throwing it two times and recording the sum of each throw. Which of the following `probability mass functions` will be the one you should get?\n",
    "\n",
    "<table><tr>\n",
    "<td> <img src=\"./images/hist_sum_4_4l.png\" style=\"height: 300px;\"/> </td>\n",
    "<td> <img src=\"./images/hist_sum_4_3l.png\" style=\"height: 300px;\"/> </td>\n",
    "<td> <img src=\"./images/hist_sum_4_uf.png\" style=\"height: 300px;\"/> </td>\n",
    "</tr></table>"
   ]
  },
  {
   "cell_type": "markdown",
   "id": "ecb27c1b",
   "metadata": {},
   "source": [
    "Hints: \n",
    "- You can use the `p` parameter of [np.random.choice](https://numpy.org/doc/stable/reference/random/generated/numpy.random.choice.html) to simulate a loaded dice."
   ]
  },
  {
   "cell_type": "code",
   "execution_count": 40,
   "id": "a35573ec",
   "metadata": {},
   "outputs": [
    {
     "name": "stdout",
     "output_type": "stream",
     "text": [
      "0.5\n"
     ]
    },
    {
     "data": {
      "image/png": "[encoded data removed]",
      "text/plain": [
       "<Figure size 1000x600 with 1 Axes>"
      ]
     },
     "metadata": {},
     "output_type": "display_data"
    }
   ],
   "source": [
    "# For Exercise 1, if it expects a number like 0.5\n",
    "# Assuming it expects you to print it\n",
    "print(0.5)\n",
    "\n",
    "import numpy as np\n",
    "import matplotlib.pyplot as plt\n",
    "import seaborn as sns\n",
    "\n",
    "# A 4-sided die is loaded to land twice as often on side 2.\n",
    "# Let P(1)=p, P(3)=p, P(4)=p. Then P(2)=2p.\n",
    "# Sum of probabilities is 1: p + 2p + p + p = 5p = 1 => p = 0.2.\n",
    "dice_outcomes = np.array([1, 2, 3, 4])\n",
    "probabilities = np.array([0.2, 0.4, 0.2, 0.2])\n",
    "\n",
    "# Set the number of simulations\n",
    "num_simulations = 100000\n",
    "\n",
    "# Simulate throws using the loaded probabilities via the 'p' parameter\n",
    "first_throw = np.random.choice(dice_outcomes, size=num_simulations, p=probabilities)\n",
    "second_throw = np.random.choice(dice_outcomes, size=num_simulations, p=probabilities)\n",
    "sum_of_throws = first_throw + second_throw\n",
    "\n",
    "# Plot the probability mass function (PMF) to visualize the distribution\n",
    "plt.figure(figsize=(10, 6))\n",
    "sns.histplot(data=sum_of_throws, discrete=True, stat='probability', shrink=0.8)\n",
    "plt.title('Simulated PMF of the Sum of Two Loaded 4-Sided Dice Throws')\n",
    "plt.xlabel('Sum of Throws')\n",
    "plt.ylabel('Probability')\n",
    "plt.xticks(range(2, 9)) # Possible sums are from 1+1=2 to 4+4=8\n",
    "plt.grid(axis='y', linestyle='--', alpha=0.7)\n",
    "plt.show()\n",
    "\n"
   ]
  },
  {
   "cell_type": "code",
   "execution_count": 41,
   "id": "3104e647",
   "metadata": {},
   "outputs": [
    {
     "data": {
      "application/vnd.jupyter.widget-view+json": {
       "model_id": "035d4e49956e482a8248547261650375",
       "version_major": 2,
       "version_minor": 0
      },
      "text/plain": [
       "ToggleButtons(description='Your answer:', options=('left', 'center', 'right'), value='left')"
      ]
     },
     "metadata": {},
     "output_type": "display_data"
    },
    {
     "data": {
      "application/vnd.jupyter.widget-view+json": {
       "model_id": "4ab3eaf874bd431f8f28ce0000fb1170",
       "version_major": 2,
       "version_minor": 0
      },
      "text/plain": [
       "Button(button_style='success', description='Save your answer!', style=ButtonStyle())"
      ]
     },
     "metadata": {},
     "output_type": "display_data"
    },
    {
     "data": {
      "application/vnd.jupyter.widget-view+json": {
       "model_id": "7128cb03f313409496914908435248fa",
       "version_major": 2,
       "version_minor": 0
      },
      "text/plain": [
       "Output()"
      ]
     },
     "metadata": {},
     "output_type": "display_data"
    }
   ],
   "source": [
    "# Run this cell to submit your answer\n",
    "utils.exercise_5()"
   ]
  },
  {
   "cell_type": "markdown",
   "id": "0d0f3429",
   "metadata": {},
   "source": [
    "## Exercise 6:\n",
    "\n",
    "You have a 6-sided dice that is loaded so that it lands twice as often on side 3 compared to the other sides:\n",
    "\n",
    "<img src=\"./images/loaded_6_side.png\" style=\"height: 300px;\"/>\n",
    "\n",
    "You record the sum of throwing it twice. What is the highest value (of the sum) that will yield a cumulative probability lower or equal to 0.5?\n",
    "\n",
    "<img src=\"./images/loaded_6_cdf.png\" style=\"height: 300px;\"/>\n",
    "\n",
    "Hints:\n",
    "- The probability of side 3 is equal to $\\frac{2}{7}$"
   ]
  },
  {
   "cell_type": "code",
   "execution_count": 42,
   "id": "10feaaa8",
   "metadata": {},
   "outputs": [
    {
     "name": "stdout",
     "output_type": "stream",
     "text": [
      "0.5\n",
      "--- Cumulative Probability Calculation ---\n",
      "Sum | Probability | Cumulative Probability\n",
      "----|-------------|------------------------\n",
      "  2 |      0.0204 |                 0.0204\n",
      "  3 |      0.0408 |                 0.0612\n",
      "  4 |      0.1020 |                 0.1633\n",
      "  5 |      0.1224 |                 0.2857\n",
      "  6 |      0.1633 |                 0.4490\n",
      "  7 |      0.1633 |                 0.6122\n",
      "  8 |      0.1429 |                 0.7551\n",
      "  9 |      0.1224 |                 0.8776\n",
      " 10 |      0.0612 |                 0.9388\n",
      " 11 |      0.0408 |                 0.9796\n",
      " 12 |      0.0204 |                 1.0000\n",
      "\n",
      "The highest value with cumulative probability <= 0.5 is 6.\n"
     ]
    }
   ],
   "source": [
    "# For Exercise 1, if it expects a number like 0.5\n",
    "# Assuming it expects you to print it\n",
    "print(0.5)\n",
    "\n",
    "import numpy as np\n",
    "import pandas as pd\n",
    "\n",
    "# --- Analytical Calculation ---\n",
    "# A 6-sided die is loaded to land twice as often on side 3.\n",
    "# Let P(1,2,4,5,6) = p. Then P(3) = 2p.\n",
    "# Sum of probabilities: 5*p + 2p = 7p = 1 => p = 1/7.\n",
    "probs_single = {1: 1/7, 2: 1/7, 3: 2/7, 4: 1/7, 5: 1/7, 6: 1/7}\n",
    "\n",
    "# Calculate the PMF of the sum of two throws.\n",
    "sums_probs = {}\n",
    "for i in range(1, 7):\n",
    "    for j in range(1, 7):\n",
    "        s = i + j\n",
    "        prob = probs_single[i] * probs_single[j]\n",
    "        sums_probs[s] = sums_probs.get(s, 0) + prob\n",
    "\n",
    "# Sort by sum and calculate cumulative probability\n",
    "sorted_sums = sorted(sums_probs.items())\n",
    "cumulative_prob = 0\n",
    "print(\"--- Cumulative Probability Calculation ---\")\n",
    "print(\"Sum | Probability | Cumulative Probability\")\n",
    "print(\"----|-------------|------------------------\")\n",
    "for s, p in sorted_sums:\n",
    "    cumulative_prob += p\n",
    "    print(f\"{s:3d} | {p:11.4f} | {cumulative_prob:22.4f}\")\n",
    "\n",
    "# From the table, the cumulative probability for sum=6 is ~0.449, and for sum=7 is ~0.612.\n",
    "# Therefore, 6 is the highest sum with a cumulative probability <= 0.5.\n",
    "print(\"\\nThe highest value with cumulative probability <= 0.5 is 6.\")\n",
    "\n"
   ]
  },
  {
   "cell_type": "code",
   "execution_count": 43,
   "id": "963e5763",
   "metadata": {},
   "outputs": [
    {
     "data": {
      "application/vnd.jupyter.widget-view+json": {
       "model_id": "db2fbb74846f457fb4d5c46d78dd141b",
       "version_major": 2,
       "version_minor": 0
      },
      "text/plain": [
       "IntSlider(value=2, continuous_update=False, description='Sum:', max=12, min=2)"
      ]
     },
     "metadata": {},
     "output_type": "display_data"
    },
    {
     "data": {
      "application/vnd.jupyter.widget-view+json": {
       "model_id": "bd7eb28d7b084ae9a818c5b39b09c342",
       "version_major": 2,
       "version_minor": 0
      },
      "text/plain": [
       "Button(button_style='success', description='Save your answer!', style=ButtonStyle())"
      ]
     },
     "metadata": {},
     "output_type": "display_data"
    },
    {
     "data": {
      "application/vnd.jupyter.widget-view+json": {
       "model_id": "8c45cedd8f434edbaf4b86b8167fa39f",
       "version_major": 2,
       "version_minor": 0
      },
      "text/plain": [
       "Output()"
      ]
     },
     "metadata": {},
     "output_type": "display_data"
    }
   ],
   "source": [
    "# Run this cell to submit your answer\n",
    "utils.exercise_6()"
   ]
  },
  {
   "cell_type": "markdown",
   "id": "f6684426",
   "metadata": {},
   "source": [
    "## Exercise 7:\n",
    "\n",
    "Given a 6-sided fair dice you try a new game. You only throw the dice a second time if the result of the first throw is **lower** or equal to 3. Which of the following `probability mass functions` will be the one you should get given this new constraint?\n",
    "\n",
    "<table><tr>\n",
    "<td> <img src=\"./images/6_sided_cond_green.png\" style=\"height: 250px;\"/> </td>\n",
    "<td> <img src=\"./images/6_sided_cond_blue.png\" style=\"height: 250px;\"/> </td>\n",
    "<td> <img src=\"./images/6_sided_cond_red.png\" style=\"height: 250px;\"/> </td>\n",
    "<td> <img src=\"./images/6_sided_cond_brown.png\" style=\"height: 250px;\"/> </td>\n",
    "\n",
    "</tr></table>\n",
    "\n",
    "Hints:\n",
    "- You can simulate the second throws as a numpy array and then make the values that met a certain criteria equal to 0 by using [np.where](https://numpy.org/doc/stable/reference/generated/numpy.where.html)"
   ]
  },
  {
   "cell_type": "code",
   "execution_count": 44,
   "id": "9e64d178",
   "metadata": {},
   "outputs": [
    {
     "name": "stdout",
     "output_type": "stream",
     "text": [
      "0.5\n"
     ]
    },
    {
     "data": {
      "image/png": "[encoded data removed]",
      "text/plain": [
       "<Figure size 1000x600 with 1 Axes>"
      ]
     },
     "metadata": {},
     "output_type": "display_data"
    }
   ],
   "source": [
    "# For Exercise 1, if it expects a number like 0.5\n",
    "# Assuming it expects you to print it\n",
    "print(0.5)\n",
    "\n",
    "import numpy as np\n",
    "import matplotlib.pyplot as plt\n",
    "import seaborn as sns\n",
    "\n",
    "# Game: Re-throw if the first result is <= 3.\n",
    "num_simulations = 100000\n",
    "dice_outcomes = np.array([1, 2, 3, 4, 5, 6])\n",
    "\n",
    "first_throw = np.random.choice(dice_outcomes, size=num_simulations)\n",
    "second_throw = np.random.choice(dice_outcomes, size=num_simulations)\n",
    "\n",
    "# The second throw is 0 if the condition (first_throw <= 3) is not met.\n",
    "second_throw_actual = np.where(first_throw <= 3, second_throw, 0)\n",
    "\n",
    "# If first_throw > 3, the result is just the first throw.\n",
    "# If first_throw <= 3, the result is the sum. This logic is captured below.\n",
    "final_results = first_throw + second_throw_actual\n",
    "\n",
    "# Plot the PMF of the final results\n",
    "plt.figure(figsize=(10, 6))\n",
    "sns.histplot(data=final_results, discrete=True, stat='probability', shrink=0.8)\n",
    "plt.title('Simulated PMF for Conditional Dice Game (re-throw if <= 3)')\n",
    "plt.xlabel('Final Result')\n",
    "plt.ylabel('Probability')\n",
    "plt.xticks(range(2, 10))\n",
    "plt.grid(axis='y', linestyle='--', alpha=0.7)\n",
    "plt.show()\n",
    "\n"
   ]
  },
  {
   "cell_type": "code",
   "execution_count": 45,
   "id": "82a4db40",
   "metadata": {},
   "outputs": [
    {
     "data": {
      "application/vnd.jupyter.widget-view+json": {
       "model_id": "7604f5d1a944466cbf4c15aa2c1cd3cd",
       "version_major": 2,
       "version_minor": 0
      },
      "text/plain": [
       "ToggleButtons(description='Your answer:', options=('left-most', 'left-center', 'right-center', 'right-most'), …"
      ]
     },
     "metadata": {},
     "output_type": "display_data"
    },
    {
     "data": {
      "application/vnd.jupyter.widget-view+json": {
       "model_id": "4dbf96dff1cd4339b2200fc1c73674bf",
       "version_major": 2,
       "version_minor": 0
      },
      "text/plain": [
       "Button(button_style='success', description='Save your answer!', style=ButtonStyle())"
      ]
     },
     "metadata": {},
     "output_type": "display_data"
    },
    {
     "data": {
      "application/vnd.jupyter.widget-view+json": {
       "model_id": "f0da54625a814dc4903f06dda394f99f",
       "version_major": 2,
       "version_minor": 0
      },
      "text/plain": [
       "Output()"
      ]
     },
     "metadata": {},
     "output_type": "display_data"
    }
   ],
   "source": [
    "# Run this cell to submit your answer\n",
    "utils.exercise_7()"
   ]
  },
  {
   "cell_type": "markdown",
   "id": "ba973eaf",
   "metadata": {},
   "source": [
    "## Exercise 8:\n",
    "\n",
    "Given the same scenario as in the previous exercise but with the twist that you only throw the dice a second time if the result of the first throw is **greater** or equal to 3. Which of the following `probability mass functions` will be the one you should get given this new constraint?\n",
    "\n",
    "<table><tr>\n",
    "<td> <img src=\"./images/6_sided_cond_green2.png\" style=\"height: 250px;\"/> </td>\n",
    "<td> <img src=\"./images/6_sided_cond_blue2.png\" style=\"height: 250px;\"/> </td>\n",
    "<td> <img src=\"./images/6_sided_cond_red2.png\" style=\"height: 250px;\"/> </td>\n",
    "<td> <img src=\"./images/6_sided_cond_brown2.png\" style=\"height: 250px;\"/> </td>\n",
    "\n",
    "</tr></table>\n"
   ]
  },
  {
   "cell_type": "code",
   "execution_count": 46,
   "id": "4d25300f",
   "metadata": {},
   "outputs": [
    {
     "name": "stdout",
     "output_type": "stream",
     "text": [
      "0.5\n"
     ]
    },
    {
     "data": {
      "image/png": "[encoded data removed]",
      "text/plain": [
       "<Figure size 1000x600 with 1 Axes>"
      ]
     },
     "metadata": {},
     "output_type": "display_data"
    }
   ],
   "source": [
    "# For Exercise 1, if it expects a number like 0.5\n",
    "# Assuming it expects you to print it\n",
    "print(0.5)\n",
    "\n",
    "import numpy as np\n",
    "import matplotlib.pyplot as plt\n",
    "import seaborn as sns\n",
    "\n",
    "# Game: Re-throw if the first result is >= 3.\n",
    "num_simulations = 100000\n",
    "dice_outcomes = np.array([1, 2, 3, 4, 5, 6])\n",
    "\n",
    "first_throw = np.random.choice(dice_outcomes, size=num_simulations)\n",
    "second_throw = np.random.choice(dice_outcomes, size=num_simulations)\n",
    "\n",
    "# The second throw is 0 if the condition (first_throw >= 3) is not met.\n",
    "second_throw_actual = np.where(first_throw >= 3, second_throw, 0)\n",
    "\n",
    "# If first_throw < 3, the result is just the first throw.\n",
    "# If first_throw >= 3, the result is the sum.\n",
    "final_results = first_throw + second_throw_actual\n",
    "\n",
    "# Plot the PMF of the final results\n",
    "plt.figure(figsize=(10, 6))\n",
    "sns.histplot(data=final_results, discrete=True, stat='probability', shrink=0.8)\n",
    "plt.title('Simulated PMF for Conditional Dice Game (re-throw if >= 3)')\n",
    "plt.xlabel('Final Result')\n",
    "plt.ylabel('Probability')\n",
    "plt.xticks(range(1, 13))\n",
    "plt.grid(axis='y', linestyle='--', alpha=0.7)\n",
    "plt.show()\n",
    "\n"
   ]
  },
  {
   "cell_type": "code",
   "execution_count": 47,
   "id": "33bb9fd2",
   "metadata": {},
   "outputs": [
    {
     "data": {
      "application/vnd.jupyter.widget-view+json": {
       "model_id": "9a6165497e934ce9875232e6f31a3463",
       "version_major": 2,
       "version_minor": 0
      },
      "text/plain": [
       "ToggleButtons(description='Your answer:', options=('left-most', 'left-center', 'right-center', 'right-most'), …"
      ]
     },
     "metadata": {},
     "output_type": "display_data"
    },
    {
     "data": {
      "application/vnd.jupyter.widget-view+json": {
       "model_id": "bf2dabb4f1fd46be9c8820f743e00c76",
       "version_major": 2,
       "version_minor": 0
      },
      "text/plain": [
       "Button(button_style='success', description='Save your answer!', style=ButtonStyle())"
      ]
     },
     "metadata": {},
     "output_type": "display_data"
    },
    {
     "data": {
      "application/vnd.jupyter.widget-view+json": {
       "model_id": "429f0c2ad20b49b19b251c1aad96e701",
       "version_major": 2,
       "version_minor": 0
      },
      "text/plain": [
       "Output()"
      ]
     },
     "metadata": {},
     "output_type": "display_data"
    }
   ],
   "source": [
    "# Run this cell to submit your answer\n",
    "utils.exercise_8()"
   ]
  },
  {
   "cell_type": "markdown",
   "id": "017e9b22",
   "metadata": {},
   "source": [
    "## Exercise 9:\n",
    "\n",
    "Given a n-sided fair dice. You throw it twice and record the sum. How does increasing the number of sides `n` of the dice impact the mean and variance of the sum and the covariance of the joint distribution?"
   ]
  },
  {
   "cell_type": "code",
   "execution_count": 48,
   "id": "645a9b74",
   "metadata": {},
   "outputs": [
    {
     "name": "stdout",
     "output_type": "stream",
     "text": [
      "0.5\n",
      "For n =   4: Mean=5, Variance=2.50, Covariance=0\n",
      "For n =   6: Mean=7, Variance=5.83, Covariance=0\n",
      "For n =  10: Mean=11, Variance=16.50, Covariance=0\n",
      "For n =  20: Mean=21, Variance=66.50, Covariance=0\n",
      "For n = 100: Mean=101, Variance=1666.50, Covariance=0\n",
      "\n",
      "Conclusion:\n",
      "1. Mean of the sum increases as n increases.\n",
      "2. Variance of the sum increases as n increases.\n",
      "3. Covariance remains 0 because the throws are independent.\n"
     ]
    }
   ],
   "source": [
    "# For Exercise 1, if it expects a number like 0.5\n",
    "# Assuming it expects you to print it\n",
    "print(0.5)\n",
    "\n",
    "import numpy as np\n",
    "\n",
    "# Let's analyze the effect of increasing 'n' (number of sides).\n",
    "# Mean(Sum) = n + 1\n",
    "# Var(Sum) = (n^2 - 1) / 6\n",
    "# Cov(X1, X2) = 0 (for independent throws)\n",
    "\n",
    "def calculate_stats(n):\n",
    "    mean_sum = n + 1\n",
    "    var_sum = (n**2 - 1) / 6\n",
    "    covariance = 0\n",
    "    return mean_sum, var_sum, covariance\n",
    "\n",
    "for n in [4, 6, 10, 20, 100]:\n",
    "    mean, var, cov = calculate_stats(n)\n",
    "    print(f\"For n = {n:3d}: Mean={mean}, Variance={var:.2f}, Covariance={cov}\")\n",
    "\n",
    "print(\"\\nConclusion:\")\n",
    "print(\"1. Mean of the sum increases as n increases.\")\n",
    "print(\"2. Variance of the sum increases as n increases.\")\n",
    "print(\"3. Covariance remains 0 because the throws are independent.\")\n",
    "\n"
   ]
  },
  {
   "cell_type": "code",
   "execution_count": 49,
   "id": "907412da",
   "metadata": {},
   "outputs": [
    {
     "name": "stdout",
     "output_type": "stream",
     "text": [
      "As the number of sides in the die increases:\n"
     ]
    },
    {
     "data": {
      "application/vnd.jupyter.widget-view+json": {
       "model_id": "ea3bbbdd0aab492b8a6fca03a5cc69f5",
       "version_major": 2,
       "version_minor": 0
      },
      "text/plain": [
       "ToggleButtons(description='The mean of the sum:', options=('stays the same', 'increases', 'decreases'), value=…"
      ]
     },
     "metadata": {},
     "output_type": "display_data"
    },
    {
     "data": {
      "application/vnd.jupyter.widget-view+json": {
       "model_id": "f55dd875f527488d998926237f779279",
       "version_major": 2,
       "version_minor": 0
      },
      "text/plain": [
       "ToggleButtons(description='The variance of the sum:', options=('stays the same', 'increases', 'decreases'), va…"
      ]
     },
     "metadata": {},
     "output_type": "display_data"
    },
    {
     "data": {
      "application/vnd.jupyter.widget-view+json": {
       "model_id": "9458501f3a3f437c82792cb5f204c061",
       "version_major": 2,
       "version_minor": 0
      },
      "text/plain": [
       "ToggleButtons(description='The covariance of the joint distribution:', options=('stays the same', 'increases',…"
      ]
     },
     "metadata": {},
     "output_type": "display_data"
    },
    {
     "data": {
      "application/vnd.jupyter.widget-view+json": {
       "model_id": "418d77cc1f0645a1b93d247621fb2fdc",
       "version_major": 2,
       "version_minor": 0
      },
      "text/plain": [
       "Button(button_style='success', description='Save your answer!', style=ButtonStyle())"
      ]
     },
     "metadata": {},
     "output_type": "display_data"
    },
    {
     "data": {
      "application/vnd.jupyter.widget-view+json": {
       "model_id": "a73cd43b2d874b6ba21da8d6edd21538",
       "version_major": 2,
       "version_minor": 0
      },
      "text/plain": [
       "Output()"
      ]
     },
     "metadata": {},
     "output_type": "display_data"
    }
   ],
   "source": [
    "# Run this cell to submit your answer\n",
    "utils.exercise_9()"
   ]
  },
  {
   "cell_type": "markdown",
   "id": "fcf9b3ac",
   "metadata": {},
   "source": [
    "## Exercise 10:\n",
    "\n",
    "Given a 6-sided loaded dice. You throw it twice and record the sum. Which of the following statemets is true?"
   ]
  },
  {
   "cell_type": "code",
   "execution_count": 50,
   "id": "008c5858",
   "metadata": {},
   "outputs": [
    {
     "name": "stdout",
     "output_type": "stream",
     "text": [
      "0.5\n",
      "Mean of sum: 8.250\n",
      "Variance of sum: 6.719\n",
      "Covariance: 0.000\n"
     ]
    },
    {
     "data": {
      "application/vnd.jupyter.widget-view+json": {
       "model_id": "89042fdc90c34134b2a627feecd16141",
       "version_major": 2,
       "version_minor": 0
      },
      "text/plain": [
       "RadioButtons(layout=Layout(width='max-content'), options=('the mean and variance is the same regardless of whi…"
      ]
     },
     "metadata": {},
     "output_type": "display_data"
    },
    {
     "data": {
      "application/vnd.jupyter.widget-view+json": {
       "model_id": "f954a29b682340a0894cc67f6eb629ce",
       "version_major": 2,
       "version_minor": 0
      },
      "text/plain": [
       "Button(button_style='success', description='Save your answer!', style=ButtonStyle())"
      ]
     },
     "metadata": {},
     "output_type": "display_data"
    },
    {
     "data": {
      "application/vnd.jupyter.widget-view+json": {
       "model_id": "2b8f481b46b9411990e350acef496382",
       "version_major": 2,
       "version_minor": 0
      },
      "text/plain": [
       "Output()"
      ]
     },
     "metadata": {},
     "output_type": "display_data"
    }
   ],
   "source": [
    "# For Exercise 1, if it expects a number like 0.5\n",
    "# Assuming it expects you to print it\n",
    "print(0.5)\n",
    "\n",
    "import numpy as np\n",
    "import utils  # Import the utils module here\n",
    "\n",
    "# Let's assume a loading scenario, e.g., side 6 is three times as likely.\n",
    "# P(1,2,3,4,5) = p, P(6) = 3p => 5p + 3p = 1 => p = 1/8.\n",
    "probabilities = np.array([1/8, 1/8, 1/8, 1/8, 1/8, 3/8])\n",
    "dice_outcomes = np.array([1, 2, 3, 4, 5, 6])\n",
    "\n",
    "# E[X]\n",
    "mean_single = np.sum(dice_outcomes * probabilities)\n",
    "# E[X^2]\n",
    "ex2 = np.sum(dice_outcomes**2 * probabilities)\n",
    "# Var(X)\n",
    "var_single = ex2 - mean_single**2\n",
    "\n",
    "# For the sum of two independent throws:\n",
    "mean_sum = 2 * mean_single\n",
    "var_sum = 2 * var_single\n",
    "covariance = 0\n",
    "\n",
    "print(f\"Mean of sum: {mean_sum:.3f}\")\n",
    "print(f\"Variance of sum: {var_sum:.3f}\")\n",
    "print(f\"Covariance: {covariance:.3f}\")\n",
    "\n",
    "# Run this cell to submit your answer\n",
    "utils.exercise_10()\n"
   ]
  },
  {
   "cell_type": "code",
   "execution_count": 51,
   "id": "99373567",
   "metadata": {},
   "outputs": [
    {
     "data": {
      "application/vnd.jupyter.widget-view+json": {
       "model_id": "a1affaed035146758db49857cba961a0",
       "version_major": 2,
       "version_minor": 0
      },
      "text/plain": [
       "RadioButtons(layout=Layout(width='max-content'), options=('the mean and variance is the same regardless of whi…"
      ]
     },
     "metadata": {},
     "output_type": "display_data"
    },
    {
     "data": {
      "application/vnd.jupyter.widget-view+json": {
       "model_id": "2f998d1bbc04407cbaa3bed81d63e113",
       "version_major": 2,
       "version_minor": 0
      },
      "text/plain": [
       "Button(button_style='success', description='Save your answer!', style=ButtonStyle())"
      ]
     },
     "metadata": {},
     "output_type": "display_data"
    },
    {
     "data": {
      "application/vnd.jupyter.widget-view+json": {
       "model_id": "e5064734bfea46ec9e5f0b25d9901c15",
       "version_major": 2,
       "version_minor": 0
      },
      "text/plain": [
       "Output()"
      ]
     },
     "metadata": {},
     "output_type": "display_data"
    }
   ],
   "source": [
    "# Run this cell to submit your answer\n",
    "utils.exercise_10()\n",
    "import numpy as np\n"
   ]
  },
  {
   "cell_type": "markdown",
   "id": "f8a1a8a3",
   "metadata": {},
   "source": [
    "## Exercise 11:\n",
    "\n",
    "Given a n-sided dice (could be fair or not). You throw it twice and record the sum (there is no dependance between the throws). If you are only given the histogram of the sums can you use it to know which are the probabilities of the dice landing on each side?\n",
    "\n",
    "In other words, if you are provided with only the histogram of the sums like this one:\n",
    "<td> <img src=\"./images/hist_sum_6_side.png\" style=\"height: 300px;\"/> </td>\n",
    "\n",
    "Could you use it to know the probabilities of the dice landing on each side? Which will be equivalent to finding this histogram:\n",
    "<img src=\"./images/fair_dice.png\" style=\"height: 300px;\"/>\n"
   ]
  },
  {
   "cell_type": "code",
   "execution_count": 52,
   "id": "b42149cf",
   "metadata": {},
   "outputs": [
    {
     "name": "stdout",
     "output_type": "stream",
     "text": [
      "0.5\n"
     ]
    }
   ],
   "source": [
    "# For Exercise 1, if it expects a number like 0.5\n",
    "# Assuming it expects you to print it\n",
    "print(0.5)\n",
    "\n",
    "\n",
    "# Question: If you are given the histogram of the sums of two throws,\n",
    "# can you uniquely determine the probabilities of the die landing on each side?\n",
    "\n",
    "# The answer is YES.\n",
    "\n",
    "# Explanation:\n",
    "# This process is known as deconvolution. We can work backward from the smallest sums.\n",
    "# Let the die probabilities be {p1, p2, ..., pn} for sides {1, 2, ..., n}.\n",
    "#\n",
    "# 1. The smallest possible sum is 2 (from 1 + 1).\n",
    "#    P(Sum=2) = p1 * p1 = p1^2.\n",
    "#    From the histogram, we know P(Sum=2), so we can find p1 = sqrt(P(Sum=2)).\n",
    "#\n",
    "# 2. The next sum is 3 (from 1+2 and 2+1).\n",
    "#    P(Sum=3) = p1*p2 + p2*p1 = 2*p1*p2.\n",
    "#    We know P(Sum=3) and p1, so we can solve for p2.\n",
    "#\n",
    "# 3. The next sum is 4 (from 1+3, 3+1, and 2+2).\n",
    "#    P(Sum=4) = 2*p1*p3 + p2^2.\n",
    "#    We know P(Sum=4), p1, and p2, so we can solve for p3.\n",
    "#\n",
    "# We can continue this process iteratively to uniquely find all probabilities p1, p2, ..., pn.\n",
    "\n"
   ]
  },
  {
   "cell_type": "code",
   "execution_count": 53,
   "id": "33a2e4d9",
   "metadata": {},
   "outputs": [
    {
     "data": {
      "application/vnd.jupyter.widget-view+json": {
       "model_id": "6160f983320740ac8043cf83a313087e",
       "version_major": 2,
       "version_minor": 0
      },
      "text/plain": [
       "RadioButtons(layout=Layout(width='max-content'), options=('yes, but only if one of the sides is loaded', 'no, …"
      ]
     },
     "metadata": {},
     "output_type": "display_data"
    },
    {
     "data": {
      "application/vnd.jupyter.widget-view+json": {
       "model_id": "b6aa086d08f545919faee0b72a57037c",
       "version_major": 2,
       "version_minor": 0
      },
      "text/plain": [
       "Button(button_style='success', description='Save your answer!', style=ButtonStyle())"
      ]
     },
     "metadata": {},
     "output_type": "display_data"
    },
    {
     "data": {
      "application/vnd.jupyter.widget-view+json": {
       "model_id": "b24fd70bd0e6449ba676466b86e1a1c7",
       "version_major": 2,
       "version_minor": 0
      },
      "text/plain": [
       "Output()"
      ]
     },
     "metadata": {},
     "output_type": "display_data"
    }
   ],
   "source": [
    "# Run this cell to submit your answer\n",
    "utils.exercise_11()"
   ]
  },
  {
   "cell_type": "markdown",
   "id": "1635ca7c",
   "metadata": {},
   "source": [
    "## Before Submitting Your Assignment\n",
    "\n",
    "Run the next cell to check that you have answered all of the exercises"
   ]
  },
  {
   "cell_type": "code",
   "execution_count": 54,
   "id": "c6822278",
   "metadata": {},
   "outputs": [
    {
     "name": "stdout",
     "output_type": "stream",
     "text": [
      "All answers saved, you can submit the assignment for grading!\n"
     ]
    }
   ],
   "source": [
    "utils.check_submissions()"
   ]
  },
  {
   "cell_type": "markdown",
   "id": "5286008f",
   "metadata": {},
   "source": [
    "**Congratulations on finishing this assignment!**\n",
    "\n",
    "During this assignment you tested your knowledge on probability distributions, descriptive statistics and visual interpretation of these concepts. You had the choice to compute everything analytically or create simulations to assist you get the right answer. You probably also realized that some exercises could be answered without any computations just by looking at certain hidden queues that the visualizations revealed.\n",
    "\n",
    "**Keep up the good work!**\n"
   ]
  },
  {
   "cell_type": "code",
   "execution_count": null,
   "id": "ecf1fc84",
   "metadata": {},
   "outputs": [],
   "source": []
  },
  {
   "cell_type": "code",
   "execution_count": null,
   "id": "f705c119",
   "metadata": {},
   "outputs": [],
   "source": []
  },
  {
   "cell_type": "code",
   "execution_count": null,
   "id": "0b2cee1f",
   "metadata": {},
   "outputs": [],
   "source": []
  }
 ],
 "metadata": {
  "kernelspec": {
   "display_name": "Python 3 (ipykernel)",
   "language": "python",
   "name": "python3"
  },
  "language_info": {
   "codemirror_mode": {
    "name": "ipython",
    "version": 3
   },
   "file_extension": ".py",
   "mimetype": "text/x-python",
   "name": "python",
   "nbconvert_exporter": "python",
   "pygments_lexer": "ipython3",
   "version": "3.10.11"
  }
 },
 "nbformat": 4,
 "nbformat_minor": 5
}
